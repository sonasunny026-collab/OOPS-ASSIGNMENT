{
  "nbformat": 4,
  "nbformat_minor": 0,
  "metadata": {
    "colab": {
      "provenance": []
    },
    "kernelspec": {
      "name": "python3",
      "display_name": "Python 3"
    },
    "language_info": {
      "name": "python"
    }
  },
  "cells": [
    {
      "cell_type": "markdown",
      "source": [
        "# OOPS ASSESMENT"
      ],
      "metadata": {
        "id": "yiNJCghRkuYr"
      }
    },
    {
      "cell_type": "markdown",
      "source": [
        "QUESTION 1- What is Object-Oriented Programming (OOPs)?"
      ],
      "metadata": {
        "id": "HcLn36dRk1bG"
      }
    },
    {
      "cell_type": "markdown",
      "source": [
        "ANSWER 1 --  Object-Oriented Programming or OOPs refers to languages that use objects in programming. Object-oriented programming aims to implement real-world entities like inheritance, hiding, polymorphism, etc in programming."
      ],
      "metadata": {
        "id": "xNsO1cd5lbbQ"
      }
    },
    {
      "cell_type": "markdown",
      "source": [
        "QUESTION 2 -- What is a class in OOPs?"
      ],
      "metadata": {
        "id": "tHXqwryOl3qk"
      }
    },
    {
      "cell_type": "markdown",
      "source": [
        "ANSWER 2-- A class in Object-Oriented Programming (OOP) is a blueprint or template used to create objects. It defines the structure and behavior of objects by bundling data attributes (variables) and methods (functions) that operate on the data into a single unit. Classes enable organized, reusable, and efficient program development."
      ],
      "metadata": {
        "id": "rPOqiOaclvSY"
      }
    },
    {
      "cell_type": "markdown",
      "source": [
        "QUESTION 3-- What is an object in OOP?"
      ],
      "metadata": {
        "id": "StTPRMygl1uW"
      }
    },
    {
      "cell_type": "markdown",
      "source": [
        "ANSWER 3 --In Object-Oriented Programming (OOP), an object is a fundamental unit that represents real-world entities. It is an instance of a class and encapsulates state, behavior, and identity. Objects interact with each other through methods, making them the building blocks of OOP systems."
      ],
      "metadata": {
        "id": "TbPnHqaFmF0C"
      }
    },
    {
      "cell_type": "markdown",
      "source": [
        "QUESTION 4 --  What is the difference between abstraction and encapsulation?"
      ],
      "metadata": {
        "id": "XrAcYkgMmOiY"
      }
    },
    {
      "cell_type": "markdown",
      "source": [
        "ANSWER 4 -- Abstraction is the process of hiding the complex implementation details and showing only the essential features of an object. It allows you to represent essential features of an object while hiding unnecessary details. This helps in managing complexity by separating what an object does (methods) from how it achieves it (implementation details).\n",
        "\n",
        "In Python, abstraction is often achieved through the use of abstract base classes (ABCs). ABCs define a common interface that subclasses are expected to implement. This allows you to specify what methods must be present in a class without providing a complete implementation."
      ],
      "metadata": {
        "id": "A9_g0WQmmdFJ"
      }
    },
    {
      "cell_type": "markdown",
      "source": [
        "QUESTION 5 --What are dunder methods in Python?"
      ],
      "metadata": {
        "id": "4FTVw-dwmfjN"
      }
    },
    {
      "cell_type": "markdown",
      "source": [
        "ANSWER 5 -- Dunder methods (short for \"double underscore methods\") in Python are special methods that have double underscores at the beginning and end of their names, such as __init__, __str__, and __add__. They are also referred to as magic methods or special methods. These methods are predefined by Python and allow you to define or customize the behavior of objects in your classes."
      ],
      "metadata": {
        "id": "ZQngWQs_mxpj"
      }
    },
    {
      "cell_type": "markdown",
      "source": [
        "QUESTION 6 -- Explain the concept of inheritance in OOP?"
      ],
      "metadata": {
        "id": "erdrL-Whm4fU"
      }
    },
    {
      "cell_type": "markdown",
      "source": [
        "ANSWER 6 --Inheritance is a fundamental concept in object-oriented programming (OOP) that allows a class to inherit attributes and methods from another class. This mechanism promotes code reuse and establishes a hierarchical relationship between classes."
      ],
      "metadata": {
        "id": "nFUrEYQ0nIkw"
      }
    },
    {
      "cell_type": "markdown",
      "source": [
        "QUESTION 7--What is polymorphism in OOP?"
      ],
      "metadata": {
        "id": "0UtbdiUanSb_"
      }
    },
    {
      "cell_type": "markdown",
      "source": [
        "ANSWER 7 --Polymorphism in Python (OOP) refers to the ability of a single function, method, or operator to behave differently based on the object or context it is applied to. The term \"polymorphism\" means \"many forms,\" and it is a key concept in object-oriented programming (OOP) that promotes flexibility and reusability.\n",
        "\n"
      ],
      "metadata": {
        "id": "839490O1nuxm"
      }
    },
    {
      "cell_type": "markdown",
      "source": [
        "QUESTION 8--How is encapsulation achieved in Python?"
      ],
      "metadata": {
        "id": "VQGRKl1-oa6n"
      }
    },
    {
      "cell_type": "markdown",
      "source": [
        "ANSWER 8 -- Encapsulation in Python is a fundamental concept of object-oriented programming that involves bundling data (attributes) and methods (functions) into a single unit (class) and restricting direct access to some of the object's components. This helps protect the integrity of the data and ensures better control over how it is accessed or modified."
      ],
      "metadata": {
        "id": "R2ZSVEH8oi3f"
      }
    },
    {
      "cell_type": "markdown",
      "source": [
        "QUESTION 9 --What is a constructor in Python?"
      ],
      "metadata": {
        "id": "aR5xAaMHo19I"
      }
    },
    {
      "cell_type": "markdown",
      "source": [
        "ANSWER 9-- A constructor in Python is a special method that is automatically called when an instance (object) of a class is created. The primary purpose of a constructor is to initialize the attributes of the object. In Python, the constructor method is named\" __init_()"
      ],
      "metadata": {
        "id": "533xy0DHpN2B"
      }
    },
    {
      "cell_type": "markdown",
      "source": [
        "QUESTION 10--What are class and static methods in Python?"
      ],
      "metadata": {
        "id": "CWz6d5nGpdOb"
      }
    },
    {
      "cell_type": "markdown",
      "source": [
        "ANSWER 10-- A static method is defined using the @staticmethod decorator. It does not take any implicit first argument like self or cls. Static methods are essentially regular functions that reside in the class namespace.\n",
        "A class method is defined using the @classmethod decorator. It takes the class itself (cls) as the first argument, allowing it to access and modify class-level attributes. Class methods are often used to create factory methods or perform operations that involve the class as a whole rather than individual instances."
      ],
      "metadata": {
        "id": "vyMFTgW-pj5P"
      }
    },
    {
      "cell_type": "markdown",
      "source": [
        "QUESTION 11 --What is method overloading in Python?"
      ],
      "metadata": {
        "id": "EZ3X68PCp4db"
      }
    },
    {
      "cell_type": "markdown",
      "source": [
        "ANSWER 11 --Method overloading is a feature in object-oriented programming that allows a class to have multiple methods with the same name but different parameters. This can be achieved by changing the number of parameters, the type of parameters, or both."
      ],
      "metadata": {
        "id": "z7rZoL0mqdEI"
      }
    },
    {
      "cell_type": "markdown",
      "source": [
        "QUESTION 12 --  What is method overriding in OOP?"
      ],
      "metadata": {
        "id": "s5Zabe_NqjAF"
      }
    },
    {
      "cell_type": "markdown",
      "source": [
        "ANSWER 12 -- Method overriding is a concept in object-oriented programming that allows a subclass to provide a specific implementation of a method that is already defined in its superclass. This is a fundamental feature in Python that enables polymorphism, where the same method can behave differently based on the object that invokes it."
      ],
      "metadata": {
        "id": "eOGIGm7FrIeD"
      }
    },
    {
      "cell_type": "markdown",
      "source": [
        "QUESTION 13 --What is a property decorator in Python?"
      ],
      "metadata": {
        "id": "zbMkQG7-rNPx"
      }
    },
    {
      "cell_type": "markdown",
      "source": [
        "ANSWER 13-- The @property decorator in Python is a built-in feature that allows you to define methods in a class that can be accessed like attributes. It is primarily used to create getter, setter, and deleter methods for class properties in a clean and Pythonic way, without explicitly calling the property() function."
      ],
      "metadata": {
        "id": "V6lSBJfXrVt-"
      }
    },
    {
      "cell_type": "markdown",
      "source": [
        "QUESTION 14--H Why is polymorphism important in OOP?"
      ],
      "metadata": {
        "id": "uvakAaXmsHs-"
      }
    },
    {
      "cell_type": "markdown",
      "source": [
        "ANSWER 14--Polymorphism is a fundamental concept in Object-Oriented Programming (OOP) that allows objects to take on multiple forms. The term originates from the Greek words poly (many) and morph (forms). In simple terms, polymorphism enables a single interface or method to behave differently based on the object or context it is applied to."
      ],
      "metadata": {
        "id": "PCHPTowHsQCU"
      }
    },
    {
      "cell_type": "markdown",
      "source": [
        "QUESTION 15 --What is an abstract class in Python?"
      ],
      "metadata": {
        "id": "8s3D67DfsYzx"
      }
    },
    {
      "cell_type": "markdown",
      "source": [
        "ANSWER 15 --An abstract class in Python is a class that serves as a blueprint for other classes. It cannot be instantiated directly and is used to define a common interface or structure that its subclasses must follow. Abstract classes are particularly useful when you want to enforce certain methods to be implemented in derived classes."
      ],
      "metadata": {
        "id": "XL6-STf7sgZM"
      }
    },
    {
      "cell_type": "markdown",
      "source": [
        "QUESTION 16 --What are the advantages of OOP?"
      ],
      "metadata": {
        "id": "puqEjyrDs4Ov"
      }
    },
    {
      "cell_type": "markdown",
      "source": [
        "ANSWER 16-- (1)Modularity: OOP allows developers to break down complex programs into smaller, manageable objects. Each object encapsulates data and functions, making it easier to develop, test, and maintain code independently.\n",
        "\n",
        "2--\n",
        "Reusability: Through inheritance, OOP promotes code reuse. Developers can create new classes based on existing ones, reducing code duplication and saving time during development.\n",
        "\n",
        "3--\n",
        "Encapsulation: OOP encapsulates data and methods within objects, which enhances data security by restricting access to the internal state of the object. This minimizes the risk of unintended data corruption.\n",
        "\n",
        "4--\n",
        "Abstraction: OOP allows developers to model complex systems by focusing on essential properties and behaviors while hiding unnecessary details. This simplifies the development process and makes it easier to manage changes over time.\n",
        "\n",
        "5--\n",
        "Improved Collaboration: OOP facilitates teamwork by allowing multiple developers to work on different objects simultaneously. Each object can be developed and tested independently, streamlining collaboration.\n"
      ],
      "metadata": {
        "id": "EdA7PO7xtVeo"
      }
    },
    {
      "cell_type": "markdown",
      "source": [
        "QUESTION 17 -- What is the difference between a class variable and an instance variable?"
      ],
      "metadata": {
        "id": "_Ql_iMWatpMI"
      }
    },
    {
      "cell_type": "markdown",
      "source": [
        "ANSWER 17 -- Instance variables are variables that are tied to a specific instance of a class. Each object created from the class has its own copy of the instance variables. These variables are defined within methods, typically the __init_ method in Python, and are prefixed with self to indicate that they belong to the instance.\n",
        "\n",
        "Class variables, also known as static variables, are shared among all instances of a class. They are defined within the class but outside any methods. Class variables are prefixed with the class name when accessed.\n",
        "\n"
      ],
      "metadata": {
        "id": "o2Ct-8ezuGb_"
      }
    },
    {
      "cell_type": "markdown",
      "source": [
        "QUESTION 18 --What is multiple inheritance in Python?"
      ],
      "metadata": {
        "id": "rv-VLR1iuTtv"
      }
    },
    {
      "cell_type": "markdown",
      "source": [
        "ANSWER 18 -- Multiple Inheritance in Python refers to a feature where a class can inherit attributes and methods from more than one parent class. This allows a subclass to combine functionalities from multiple superclasses, making it a powerful tool for code reuse and modularity."
      ],
      "metadata": {
        "id": "wXmwouh7uhyA"
      }
    },
    {
      "cell_type": "markdown",
      "source": [
        "QUESTION 19 -- Explain the purpose of ‘ _ _str__’ and ‘_ _repr_ _’ ‘ methods in Python"
      ],
      "metadata": {
        "id": "lZC4BVvsukQ3"
      }
    },
    {
      "cell_type": "markdown",
      "source": [
        "ANSWER 19 --\n",
        "__str__: Provides a \"user-friendly\" or readable string representation of an object.\n",
        "\n",
        "__repr__: Provides an \"official\" or unambiguous string representation of an object, primarily for developers."
      ],
      "metadata": {
        "id": "7yA5Fob3u2v-"
      }
    },
    {
      "cell_type": "markdown",
      "source": [
        "QUESTION 20 -- What is the significance of the ‘super()’ function in Python?"
      ],
      "metadata": {
        "id": "Xhqu4Dv6v-qF"
      }
    },
    {
      "cell_type": "markdown",
      "source": [
        "ANSWER 20 --The super() function in Python is a built-in function that allows you to call methods from a parent class within a subclass. This is particularly useful in object-oriented programming for extending and customizing the functionality inherited from the parent class."
      ],
      "metadata": {
        "id": "m6X8_y05wJ-1"
      }
    },
    {
      "cell_type": "markdown",
      "source": [
        "QUESTION 21 --What is the significance of the __del__ method in Python?"
      ],
      "metadata": {
        "id": "kBIbk4AexUp0"
      }
    },
    {
      "cell_type": "markdown",
      "source": [
        "ANSWER 21 -- The _ _del_ _ method in Python, also known as the destructor, is a special method that is called when an object is about to be destroyed. Its primary purpose is to allow you to define cleanup actions, such as releasing resources or closing files, before the object is garbage collected."
      ],
      "metadata": {
        "id": "AxZ9Vl-3xsS0"
      }
    },
    {
      "cell_type": "markdown",
      "source": [
        "QUESTION 22 --  What is the difference between @staticmethod and @classmethod in Python?"
      ],
      "metadata": {
        "id": "rTkCMcCjx3ja"
      }
    },
    {
      "cell_type": "markdown",
      "source": [
        "ANSWER 22 -- A static method does not depend on the class or instance it is called on. It behaves like a regular function but is part of the class's namespace.\n",
        "\n",
        "A class method takes the class itself (cls) as its first parameter, allowing it to access or modify class-level attributes."
      ],
      "metadata": {
        "id": "mcHGQjpCyFKy"
      }
    },
    {
      "cell_type": "markdown",
      "source": [
        "QUESTION 23 -- How does polymorphism work in Python with inheritance?"
      ],
      "metadata": {
        "id": "nC3_hAqQykI1"
      }
    },
    {
      "cell_type": "markdown",
      "source": [
        "ANSWER 23 -- Polymorphism in Python allows objects of different classes to be treated as objects of a common superclass. It enables methods in derived classes to override methods in the base class, providing specific behavior while maintaining a consistent interface."
      ],
      "metadata": {
        "id": "rnzBQugnz-3s"
      }
    },
    {
      "cell_type": "markdown",
      "source": [
        "QUESTION 24 -- What is method chaining in Python OOP?"
      ],
      "metadata": {
        "id": "sDTORb0x0rBw"
      }
    },
    {
      "cell_type": "markdown",
      "source": [
        "ANSWER 24 -- The chainable method pattern allows multiple methods to be called sequentially on the same object in a single line of code. This is achieved by ensuring each method returns the object itself (self)."
      ],
      "metadata": {
        "id": "Oxji_peJ08yw"
      }
    },
    {
      "cell_type": "markdown",
      "source": [
        "QUESTION 25 -- H What is the purpose of the __call__ method in Python?"
      ],
      "metadata": {
        "id": "wQ_GJWHY1l5h"
      }
    },
    {
      "cell_type": "markdown",
      "source": [
        "ANSWER 25 -- The __call__ method in Python is a special method that allows an instance of a class to be called as if it were a function. When you define the __call__ method in a class, you can use the class's objects like callable functions."
      ],
      "metadata": {
        "id": "o5r5cPRl1qpK"
      }
    },
    {
      "cell_type": "markdown",
      "source": [
        "# **PRACTIAL QUESTION**"
      ],
      "metadata": {
        "id": "WHUG45DyVf6r"
      }
    },
    {
      "cell_type": "markdown",
      "source": [
        "QUESTION 1 --  Create a parent class Animal with a method speak() that prints a generic message. Create a child class Dog\n",
        "that overrides the speak() method to print \"Bark!\"."
      ],
      "metadata": {
        "id": "c3J02QxcV4A0"
      }
    },
    {
      "cell_type": "code",
      "source": [],
      "metadata": {
        "id": "yiIHdoqfWJm6"
      },
      "execution_count": null,
      "outputs": []
    },
    {
      "cell_type": "code",
      "metadata": {
        "colab": {
          "base_uri": "https://localhost:8080/"
        },
        "id": "0ffd7b63",
        "outputId": "a71a2179-a8c7-4a58-e75e-b3cc7a5de5a2"
      },
      "source": [
        "class Animal:\n",
        "    def speak(self):\n",
        "        print(\"Generic animal sound\")\n",
        "\n",
        "class Dog(Animal):\n",
        "    def speak(self):\n",
        "        print(\"Bark!\")\n",
        "\n",
        "animal = Animal()\n",
        "dog = Dog()\n",
        "\n",
        "animal.speak()\n",
        "dog.speak()"
      ],
      "execution_count": 3,
      "outputs": [
        {
          "output_type": "stream",
          "name": "stdout",
          "text": [
            "Generic animal sound\n",
            "Bark!\n"
          ]
        }
      ]
    },
    {
      "cell_type": "markdown",
      "source": [
        "QUESTION 2 -- . Write a program to create an abstract class Shape with a method area(). Derive classes Circle and Rectangle\n",
        "from it and implement the area() method in both.\n",
        "\n",
        "\n"
      ],
      "metadata": {
        "id": "sLNj9IO7Wjbk"
      }
    },
    {
      "cell_type": "code",
      "metadata": {
        "id": "77c2b59a"
      },
      "source": [
        "from abc import ABC, abstractmethod\n",
        "import math\n",
        "\n",
        "class Shape(ABC):\n",
        "    @abstractmethod\n",
        "    def area(self):\n",
        "        pass\n",
        "\n",
        "class Circle(Shape):\n",
        "    def __init__(self, radius):\n",
        "        self.radius = radius\n",
        "\n",
        "    def area(self):\n",
        "        return math.pi * self.radius**2\n",
        "\n",
        "class Rectangle(Shape):\n",
        "    def __init__(self, width, height):\n",
        "        self.width = width\n",
        "        self.height = height\n",
        "\n",
        "    def area(self):\n",
        "        return self.width * self.height\n",
        "\n",
        "circle = Circle(5)\n",
        "rectangle = Rectangle(4, 6)\n",
        "\n",
        "print(f\"Area of Circle: {circle.area()}\")\n",
        "print(f\"Area of Rectangle: {rectangle.area()}\")"
      ],
      "execution_count": 6,
      "outputs": []
    },
    {
      "cell_type": "markdown",
      "source": [
        "QUESTION 3 -- Implement a multi-level inheritance scenario where a class Vehicle has an attribute type. Derive a class Car\n",
        "and further derive a class ElectricCar that adds a battery attribute."
      ],
      "metadata": {
        "id": "444TyYYtXO62"
      }
    },
    {
      "cell_type": "code",
      "metadata": {
        "colab": {
          "base_uri": "https://localhost:8080/"
        },
        "id": "446491be",
        "outputId": "ebb6e17d-f0c3-4727-dd98-491e433acc89"
      },
      "source": [
        "class Vehicle:\n",
        "    def __init__(self, vehicle_type):\n",
        "        self.type = vehicle_type\n",
        "\n",
        "    def display_type(self):\n",
        "        print(f\"Vehicle Type: {self.type}\")\n",
        "\n",
        "class Car(Vehicle):\n",
        "    def __init__(self, vehicle_type, model):\n",
        "        super().__init__(vehicle_type)\n",
        "        self.model = model\n",
        "\n",
        "    def display_model(self):\n",
        "        print(f\"Car Model: {self.model}\")\n",
        "\n",
        "class ElectricCar(Car):\n",
        "    def __init__(self, vehicle_type, model, battery_capacity):\n",
        "        super().__init__(vehicle_type, model)\n",
        "        self.battery = battery_capacity\n",
        "\n",
        "    def display_battery(self):\n",
        "        print(f\"Battery Capacity: {self.battery} kWh\")\n",
        "\n",
        "\n",
        "electric_car = ElectricCar(\"Sedan\", \"Model S\", 100)\n",
        "\n",
        "electric_car.display_type()\n",
        "electric_car.display_model()\n",
        "electric_car.display_battery()"
      ],
      "execution_count": 7,
      "outputs": [
        {
          "output_type": "stream",
          "name": "stdout",
          "text": [
            "Vehicle Type: Sedan\n",
            "Car Model: Model S\n",
            "Battery Capacity: 100 kWh\n"
          ]
        }
      ]
    },
    {
      "cell_type": "markdown",
      "source": [
        "QUESTION 4 -- Demonstrate polymorphism by creating a base class Bird with a method fly(). Create two derived classes\n",
        "Sparrow and Penguin that override the fly() method.\n"
      ],
      "metadata": {
        "id": "-02S5mE_XeEK"
      }
    },
    {
      "cell_type": "code",
      "source": [],
      "metadata": {
        "id": "bYz_qt5LXkQl"
      },
      "execution_count": null,
      "outputs": []
    },
    {
      "cell_type": "code",
      "metadata": {
        "colab": {
          "base_uri": "https://localhost:8080/"
        },
        "id": "93b959aa",
        "outputId": "437bd91b-815a-4ee6-fed7-d6f6a08e65d2"
      },
      "source": [
        "class Bird:\n",
        "    def fly(self):\n",
        "        print(\"Most birds can fly\")\n",
        "\n",
        "class Sparrow(Bird):\n",
        "    def fly(self):\n",
        "        print(\"Sparrows can fly short distances\")\n",
        "\n",
        "class Penguin(Bird):\n",
        "    def fly(self):\n",
        "        print(\"Penguins cannot fly\")\n",
        "\n",
        "\n",
        "bird = Bird()\n",
        "sparrow = Sparrow()\n",
        "penguin = Penguin()\n",
        "\n",
        "bird.fly()\n",
        "sparrow.fly()\n",
        "penguin.fly()"
      ],
      "execution_count": 8,
      "outputs": [
        {
          "output_type": "stream",
          "name": "stdout",
          "text": [
            "Most birds can fly\n",
            "Sparrows can fly short distances\n",
            "Penguins cannot fly\n"
          ]
        }
      ]
    },
    {
      "cell_type": "markdown",
      "source": [
        "QUESTIN 5 -- Write a program to demonstrate encapsulation by creating a class BankAccount with private attributes\n",
        "balance and methods to deposit, withdraw, and check balance."
      ],
      "metadata": {
        "id": "514D5fYqXsiR"
      }
    },
    {
      "cell_type": "code",
      "metadata": {
        "colab": {
          "base_uri": "https://localhost:8080/"
        },
        "id": "b229e6dd",
        "outputId": "875af7fc-6772-47a5-ea92-dee537451934"
      },
      "source": [
        "class BankAccount:\n",
        "    def __init__(self, initial_balance=0):\n",
        "        self.__balance = initial_balance\n",
        "\n",
        "    def deposit(self, amount):\n",
        "        if amount > 0:\n",
        "            self.__balance += amount\n",
        "            print(f\"Deposited: {amount}. New balance: {self.__balance}\")\n",
        "        else:\n",
        "            print(\"Deposit amount must be positive.\")\n",
        "\n",
        "    def withdraw(self, amount):\n",
        "        if amount > 0 and amount <= self.__balance:\n",
        "            self.__balance -= amount\n",
        "            print(f\"Withdrew: {amount}. New balance: {self.__balance}\")\n",
        "        elif amount > self.__balance:\n",
        "            print(\"Insufficient funds.\")\n",
        "        else:\n",
        "            print(\"Withdrawal amount must be positive.\")\n",
        "\n",
        "    def get_balance(self):\n",
        "        return self.__balance\n",
        "\n",
        "# Example usage:\n",
        "account = BankAccount(1000)\n",
        "account.deposit(500)\n",
        "account.withdraw(200)\n",
        "print(f\"Current balance: {account.get_balance()}\")\n",
        "account.withdraw(2000) # This will show insufficient funds"
      ],
      "execution_count": 11,
      "outputs": [
        {
          "output_type": "stream",
          "name": "stdout",
          "text": [
            "Deposited: 500. New balance: 1500\n",
            "Withdrew: 200. New balance: 1300\n",
            "Current balance: 1300\n",
            "Insufficient funds.\n"
          ]
        }
      ]
    },
    {
      "cell_type": "markdown",
      "source": [
        "QUESTION 6 -- Demonstrate runtime polymorphism using a method play() in a base class Instrument. Derive classes Guitar\n",
        "and Piano that implement their own version of play()."
      ],
      "metadata": {
        "id": "58lsXUa0YQat"
      }
    },
    {
      "cell_type": "code",
      "source": [],
      "metadata": {
        "id": "j_uKefS-YVcL"
      },
      "execution_count": null,
      "outputs": []
    },
    {
      "cell_type": "code",
      "metadata": {
        "colab": {
          "base_uri": "https://localhost:8080/"
        },
        "id": "f9d78659",
        "outputId": "269430a8-217e-4304-c8c5-c60cb26a78ea"
      },
      "source": [
        "class Instrument:\n",
        "    def play(self):\n",
        "        print(\"Playing an instrument\")\n",
        "\n",
        "class Guitar(Instrument):\n",
        "    def play(self):\n",
        "        print(\"Strumming the guitar\")\n",
        "\n",
        "class Piano(Instrument):\n",
        "    def play(self):\n",
        "        print(\"Playing the piano keys\")\n",
        "\n",
        "# Function to demonstrate polymorphism\n",
        "def perform_play(instrument):\n",
        "    instrument.play()\n",
        "\n",
        "\n",
        "instrument = Instrument()\n",
        "guitar = Guitar()\n",
        "piano = Piano()\n",
        "\n",
        "perform_play(instrument)\n",
        "perform_play(guitar)\n",
        "perform_play(piano)"
      ],
      "execution_count": 12,
      "outputs": [
        {
          "output_type": "stream",
          "name": "stdout",
          "text": [
            "Playing an instrument\n",
            "Strumming the guitar\n",
            "Playing the piano keys\n"
          ]
        }
      ]
    },
    {
      "cell_type": "markdown",
      "source": [
        "QUESTION 7 --  Create a class MathOperations with a class method add_numbers() to add two numbers and a static\n",
        "method subtract_numbers() to subtract two numbers."
      ],
      "metadata": {
        "id": "y0XxkeqxYqae"
      }
    },
    {
      "cell_type": "code",
      "metadata": {
        "id": "e1a429aa"
      },
      "source": [
        "class MathOperations:\n",
        "    @classmethod\n",
        "    def add_numbers(cls, x, y):\n",
        "        return x + y\n",
        "\n",
        "    @staticmethod\n",
        "    def subtract_numbers(x, y):\n",
        "        return x - y\n",
        "\n",
        "result_add = MathOperations.add_numbers(10, 5)\n",
        "print(f\"Addition result: {result_add}\")\n",
        "\n",
        "result_subtract = MathOperations.subtract_numbers(10, 5)\n",
        "print(f\"Subtraction result: {result_subtract}\")"
      ],
      "execution_count": null,
      "outputs": []
    },
    {
      "cell_type": "markdown",
      "source": [
        "QUESTION 8-- Implement a class Person with a class method to count the total number of persons created."
      ],
      "metadata": {
        "id": "wiNx40gYbndu"
      }
    },
    {
      "cell_type": "code",
      "metadata": {
        "id": "29bc4c5c"
      },
      "source": [
        "class Person:\n",
        "    count = 0\n",
        "\n",
        "    def __init__(self, name):\n",
        "        self.name = name\n",
        "        Person.count += 1\n",
        "\n",
        "    @classmethod\n",
        "    def get_person_count(cls):\n",
        "        return cls.count\n",
        "\n",
        "\n",
        "person1 = Person(\"Alice\")\n",
        "person2 = Person(\"Bob\")\n",
        "person3 = Person(\"Charlie\")\n",
        "\n",
        "print(f\"Total number of persons created: {Person.get_person_count()}\")"
      ],
      "execution_count": null,
      "outputs": []
    },
    {
      "cell_type": "markdown",
      "source": [
        "QUESTION 9 --  Write a class Fraction with attributes numerator and denominator. Override the str method to display the\n",
        "fraction as \"numerator/denominator\"."
      ],
      "metadata": {
        "id": "2KXjtS5tcRwa"
      }
    },
    {
      "cell_type": "code",
      "metadata": {
        "colab": {
          "base_uri": "https://localhost:8080/"
        },
        "id": "3f45449b",
        "outputId": "a37af47b-8d50-4b4d-9ffa-7d02d96b7c63"
      },
      "source": [
        "class Fraction:\n",
        "    def __init__(self, numerator, denominator):\n",
        "        self.numerator = numerator\n",
        "        self.denominator = denominator\n",
        "\n",
        "    def __str__(self):\n",
        "        return f\"{self.numerator}/{self.denominator}\"\n",
        "\n",
        "\n",
        "fraction1 = Fraction(3, 4)\n",
        "print(fraction1)"
      ],
      "execution_count": 13,
      "outputs": [
        {
          "output_type": "stream",
          "name": "stdout",
          "text": [
            "3/4\n"
          ]
        }
      ]
    },
    {
      "cell_type": "markdown",
      "source": [
        "QUESTION 10 --Demonstrate operator overloading by creating a class Vector and overriding the add method to add two\n",
        "vectors."
      ],
      "metadata": {
        "id": "DOvRVBEGcmMO"
      }
    },
    {
      "cell_type": "code",
      "metadata": {
        "id": "782a8ce3"
      },
      "source": [
        "class Vector:\n",
        "    def __init__(self, x, y):\n",
        "        self.x = x\n",
        "        self.y = y\n",
        "\n",
        "    def __str__(self):\n",
        "        return f\"Vector({self.x}, {self.y})\"\n",
        "\n",
        "    def __add__(self, other):\n",
        "        if isinstance(other, Vector):\n",
        "            return Vector(self.x + other.x, self.y + other.y)\n",
        "        else:\n",
        "            raise TypeError(\"Can only add a Vector to another Vector\")\n",
        "\n",
        "vector1 = Vector(2, 3)\n",
        "vector2 = Vector(1, 4)\n",
        "\n",
        "vector3 = vector1 + vector2\n",
        "print(vector3)"
      ],
      "execution_count": null,
      "outputs": []
    },
    {
      "cell_type": "markdown",
      "source": [
        "QUESTION 11--  Create a class Person with attributes name and age. Add a method greet() that prints \"Hello, my name is\n",
        "{name} and I am {age} years old.\"\n",
        "\n",
        "\n"
      ],
      "metadata": {
        "id": "a3egW9Xfc4yJ"
      }
    },
    {
      "cell_type": "code",
      "metadata": {
        "colab": {
          "base_uri": "https://localhost:8080/"
        },
        "id": "aa82f0cb",
        "outputId": "47749166-5943-40fe-b40a-b875d6ea5bbb"
      },
      "source": [
        "class Person:\n",
        "    def __init__(self, name, age):\n",
        "        self.name = name\n",
        "        self.age = age\n",
        "\n",
        "    def greet(self):\n",
        "        print(f\"Hello, my name is {self.name} and I am {self.age} years old.\")\n",
        "\n",
        "person1 = Person(\"Alice\", 30)\n",
        "person1.greet()"
      ],
      "execution_count": 15,
      "outputs": [
        {
          "output_type": "stream",
          "name": "stdout",
          "text": [
            "Hello, my name is Alice and I am 30 years old.\n"
          ]
        }
      ]
    },
    {
      "cell_type": "markdown",
      "source": [
        "QUESTION 12 --  Implement a class Student with attributes name and grades. Create a method average_grade() to compute\n",
        "the average of the grades."
      ],
      "metadata": {
        "id": "U-9WE4MWdQ5X"
      }
    },
    {
      "cell_type": "code",
      "metadata": {
        "id": "0ef5df4e"
      },
      "source": [
        "class Student:\n",
        "    def __init__(self, name, grades):\n",
        "        self.name = name\n",
        "        self.grades = grades\n",
        "\n",
        "    def average_grade(self):\n",
        "        if not self.grades:\n",
        "            return 0  # Return 0 if there are no grades\n",
        "        return sum(self.grades) / len(self.grades)\n",
        "\n",
        "\n",
        "student1 = Student(\"Bob\", [85, 90, 78, 92])\n",
        "print(f\"Student: {student1.name}, Average Grade: {student1.average_grade()}\")\n",
        "\n",
        "student2 = Student(\"Alice\", [])\n",
        "print(f\"Student: {student2.name}, Average Grade: {student2.average_grade()}\")"
      ],
      "execution_count": null,
      "outputs": []
    },
    {
      "cell_type": "markdown",
      "source": [
        "QUESTION 13 -- Create a class Rectangle with methods set_dimensions() to set the dimensions and area() to calculate the\n",
        "area."
      ],
      "metadata": {
        "id": "vyY1tYXOdhXV"
      }
    },
    {
      "cell_type": "code",
      "metadata": {
        "colab": {
          "base_uri": "https://localhost:8080/"
        },
        "id": "f01bfc3d",
        "outputId": "73c01cde-94d0-4bb1-a0d4-357fd76c5bba"
      },
      "source": [
        "class Rectangle:\n",
        "    def __init__(self, width=0, height=0):\n",
        "        self.width = width\n",
        "        self.height = height\n",
        "\n",
        "    def set_dimensions(self, width, height):\n",
        "        self.width = width\n",
        "        self.height = height\n",
        "\n",
        "    def area(self):\n",
        "        return self.width * self.height\n",
        "\n",
        "\n",
        "rectangle = Rectangle()\n",
        "rectangle.set_dimensions(10, 5)\n",
        "print(f\"Area of the rectangle: {rectangle.area()}\")"
      ],
      "execution_count": 16,
      "outputs": [
        {
          "output_type": "stream",
          "name": "stdout",
          "text": [
            "Area of the rectangle: 50\n"
          ]
        }
      ]
    },
    {
      "cell_type": "markdown",
      "source": [
        "QUESTION 14 -- Create a class Employee with a method calculate_salary() that computes the salary based on hours worked\n",
        "and hourly rate. Create a derived class Manager that adds a bonus to the salary"
      ],
      "metadata": {
        "id": "iO1UgOmkd7Hw"
      }
    },
    {
      "cell_type": "code",
      "metadata": {
        "id": "944056a0"
      },
      "source": [
        "class Employee:\n",
        "    def __init__(self, hours_worked, hourly_rate):\n",
        "        self.hours_worked = hours_worked\n",
        "        self.hourly_rate = hourly_rate\n",
        "\n",
        "    def calculate_salary(self):\n",
        "        return self.hours_worked * self.hourly_rate\n",
        "\n",
        "class Manager(Employee):\n",
        "    def __init__(self, hours_worked, hourly_rate, bonus):\n",
        "        super().__init__(hours_worked, hourly_rate)\n",
        "        self.bonus = bonus\n",
        "\n",
        "    def calculate_salary(self):\n",
        "        base_salary = super().calculate_salary()\n",
        "        return base_salary + self.bonus\n",
        "\n",
        "employee1 = Employee(40, 20)\n",
        "print(f\"Employee Salary: {employee1.calculate_salary()}\")\n",
        "\n",
        "manager1 = Manager(40, 20, 500)\n",
        "print(f\"Manager Salary: {manager1.calculate_salary()}\")"
      ],
      "execution_count": null,
      "outputs": []
    },
    {
      "cell_type": "markdown",
      "source": [
        "QUESTION 15 --  Create a class Product with attributes name, price, and quantity. Implement a method total_price() that\n",
        "calculates the total price of the product."
      ],
      "metadata": {
        "id": "HikiglZteReP"
      }
    },
    {
      "cell_type": "code",
      "metadata": {
        "id": "87a26133"
      },
      "source": [
        "class Product:\n",
        "    def __init__(self, name, price, quantity):\n",
        "        self.name = name\n",
        "        self.price = price\n",
        "        self.quantity = quantity\n",
        "\n",
        "    def total_price(self):\n",
        "        return self.price * self.quantity\n",
        "\n",
        "\n",
        "product1 = Product(\"Laptop\", 1200, 1)\n",
        "print(f\"Product: {product1.name}, Total Price: {product1.total_price()}\")\n",
        "\n",
        "product2 = Product(\"Mouse\", 25, 5)\n",
        "print(f\"Product: {product2.name}, Total Price: {product2.total_price()}\")"
      ],
      "execution_count": null,
      "outputs": []
    },
    {
      "cell_type": "markdown",
      "source": [
        "QUESTION 16-- Create a class Animal with an abstract method sound(). Create two derived classes Cow and Sheep that\n",
        "implement the sound() method."
      ],
      "metadata": {
        "id": "rOoWqS7Aeld9"
      }
    },
    {
      "cell_type": "code",
      "metadata": {
        "colab": {
          "base_uri": "https://localhost:8080/"
        },
        "id": "c479b2ec",
        "outputId": "8e2b8f83-eb3f-46f3-f9fe-a614f6f91cf3"
      },
      "source": [
        "from abc import ABC, abstractmethod\n",
        "\n",
        "class Animal(ABC):\n",
        "    @abstractmethod\n",
        "    def sound(self):\n",
        "        pass\n",
        "\n",
        "class Cow(Animal):\n",
        "    def sound(self):\n",
        "        return \"Moo!\"\n",
        "\n",
        "class Sheep(Animal):\n",
        "    def sound(self):\n",
        "        return \"Baa!\"\n",
        "\n",
        "\n",
        "cow = Cow()\n",
        "sheep = Sheep()\n",
        "\n",
        "print(f\"Cow says: {cow.sound()}\")\n",
        "print(f\"Sheep says: {sheep.sound()}\")"
      ],
      "execution_count": 17,
      "outputs": [
        {
          "output_type": "stream",
          "name": "stdout",
          "text": [
            "Cow says: Moo!\n",
            "Sheep says: Baa!\n"
          ]
        }
      ]
    },
    {
      "cell_type": "markdown",
      "source": [
        "QUESTION 17 -- Create a class Book with attributes title, author, and year_published. Add a method get_book_info() that\n",
        "returns a formatted string with the book's details."
      ],
      "metadata": {
        "id": "6z4GwSHVe8cC"
      }
    },
    {
      "cell_type": "code",
      "metadata": {
        "colab": {
          "base_uri": "https://localhost:8080/"
        },
        "id": "8f08e4c9",
        "outputId": "b438fcc4-1606-4e77-ed40-ab56484481a2"
      },
      "source": [
        "class Book:\n",
        "    def __init__(self, title, author, year_published):\n",
        "        self.title = title\n",
        "        self.author = author\n",
        "        self.year_published = year_published\n",
        "\n",
        "    def get_book_info(self):\n",
        "        return f\"Title: {self.title}, Author: {self.author}, Year Published: {self.year_published}\"\n",
        "\n",
        "\n",
        "book1 = Book(\"The Hitchhiker's Guide to the Galaxy\", \"Douglas Adams\", 1979)\n",
        "print(book1.get_book_info())"
      ],
      "execution_count": 18,
      "outputs": [
        {
          "output_type": "stream",
          "name": "stdout",
          "text": [
            "Title: The Hitchhiker's Guide to the Galaxy, Author: Douglas Adams, Year Published: 1979\n"
          ]
        }
      ]
    },
    {
      "cell_type": "markdown",
      "source": [
        "QUESTION 18-- Create a class House with attributes address and price. Create a derived class Mansion that adds an\n",
        "attribute number_of_rooms."
      ],
      "metadata": {
        "id": "mbYMYKdCgHTg"
      }
    },
    {
      "cell_type": "code",
      "source": [],
      "metadata": {
        "id": "_BXpXCzmgoVV"
      },
      "execution_count": null,
      "outputs": []
    },
    {
      "cell_type": "code",
      "metadata": {
        "colab": {
          "base_uri": "https://localhost:8080/"
        },
        "id": "7f4f0dcd",
        "outputId": "04e700d9-a494-4d5e-c893-f97c010112c0"
      },
      "source": [
        "class House:\n",
        "    def __init__(self, address, price):\n",
        "        self.address = address\n",
        "        self.price = price\n",
        "\n",
        "    def display_info(self):\n",
        "        print(f\"Address: {self.address}, Price: ${self.price}\")\n",
        "\n",
        "class Mansion(House):\n",
        "    def __init__(self, address, price, number_of_rooms):\n",
        "        super().__init__(address, price)\n",
        "        self.number_of_rooms = number_of_rooms\n",
        "\n",
        "    def display_info(self):\n",
        "        super().display_info()\n",
        "        print(f\"Number of Rooms: {self.number_of_rooms}\")\n",
        "\n",
        "\n",
        "house = House(\"123 Main St\", 300000)\n",
        "house.display_info()\n",
        "\n",
        "mansion = Mansion(\"456 Elm St\", 1500000, 20)\n",
        "mansion.display_info()"
      ],
      "execution_count": 19,
      "outputs": [
        {
          "output_type": "stream",
          "name": "stdout",
          "text": [
            "Address: 123 Main St, Price: $300000\n",
            "Address: 456 Elm St, Price: $1500000\n",
            "Number of Rooms: 20\n"
          ]
        }
      ]
    }
  ]
}